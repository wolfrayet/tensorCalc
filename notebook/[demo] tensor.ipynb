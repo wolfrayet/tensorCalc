{
 "cells": [
  {
   "cell_type": "code",
   "execution_count": 1,
   "id": "857a5a34",
   "metadata": {},
   "outputs": [],
   "source": [
    "import sys, os\n",
    "import h5py\n",
    "import numpy as np\n",
    "import matplotlib.pyplot as plt\n",
    "%matplotlib inline\n",
    "\n",
    "sys.path.append('../src/')\n",
    "from tensor import Particles"
   ]
  },
  {
   "cell_type": "code",
   "execution_count": 2,
   "id": "b2ae29f6",
   "metadata": {},
   "outputs": [],
   "source": [
    "hf = h5py.File('../data/elucid_noQ_mock.hdf5', 'r')['particles']\n",
    "idx = hf['cen_flag'] == 0\n",
    "pos = np.stack((hf['x'][idx], hf['y'][idx], hf['z'][idx]), axis=1)\n",
    "mass = hf['host_lgmass'][idx]\n",
    "del hf"
   ]
  },
  {
   "cell_type": "code",
   "execution_count": 3,
   "id": "b2b1e5aa",
   "metadata": {},
   "outputs": [
    {
     "name": "stdout",
     "output_type": "stream",
     "text": [
      "No. CPU: 6\n"
     ]
    }
   ],
   "source": [
    "# parameters\n",
    "ngrid = 256                  # number of grids\n",
    "Lbox = 500                   # box size, ckpc/h\n",
    "Rs = 1                       # smoothing scale (FWHM), ckpc/h\n",
    "workers = os.cpu_count() - 2 # number of CPU for FFT parallel computing\n",
    "print(f'No. CPU: {workers}')"
   ]
  },
  {
   "cell_type": "code",
   "execution_count": 4,
   "id": "aa69005b",
   "metadata": {},
   "outputs": [],
   "source": [
    "# initialize\n",
    "grid = Particles(ngrid, Lbox)\n",
    "\n",
    "# assign particle to mesh\n",
    "grid.assign(pos, mass)\n",
    "\n",
    "# tensor field calculation\n",
    "grid.TensorField(Rs, workers=workers)"
   ]
  },
  {
   "cell_type": "code",
   "execution_count": 5,
   "id": "a847b0cb",
   "metadata": {},
   "outputs": [],
   "source": [
    "# interpolate tensor at given positions\n",
    "x = np.array([10, 20])\n",
    "y = np.array([300, 300])\n",
    "z = np.array([60, 60])\n",
    "xyz = np.stack((x, y, z), axis=1)\n",
    "tensor = grid.TensorInterp(xyz)"
   ]
  },
  {
   "cell_type": "code",
   "execution_count": 6,
   "id": "ee5ba09f",
   "metadata": {},
   "outputs": [
    {
     "name": "stdout",
     "output_type": "stream",
     "text": [
      "CPU times: user 11.3 s, sys: 19.6 s, total: 30.9 s\n",
      "Wall time: 31.9 s\n"
     ]
    }
   ],
   "source": [
    "# use update to calculate by a single command\n",
    "%time grid.TensorField(Rs, workers=workers, update=True, pos=pos, mass=mass)"
   ]
  },
  {
   "cell_type": "code",
   "execution_count": null,
   "id": "69483a3a",
   "metadata": {},
   "outputs": [],
   "source": []
  }
 ],
 "metadata": {
  "kernelspec": {
   "display_name": "cosmo",
   "language": "python",
   "name": "python3"
  },
  "language_info": {
   "codemirror_mode": {
    "name": "ipython",
    "version": 3
   },
   "file_extension": ".py",
   "mimetype": "text/x-python",
   "name": "python",
   "nbconvert_exporter": "python",
   "pygments_lexer": "ipython3",
   "version": "3.9.15 (main, Nov 24 2022, 08:29:02) \n[Clang 14.0.6 ]"
  },
  "vscode": {
   "interpreter": {
    "hash": "6a1a1cf7ee91d7dc38d2be6a26028f535ea32dbc848f5fc0be987430f26a63d4"
   }
  }
 },
 "nbformat": 4,
 "nbformat_minor": 5
}
