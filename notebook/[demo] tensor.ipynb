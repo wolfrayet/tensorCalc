{
 "cells": [
  {
   "cell_type": "code",
   "execution_count": 2,
   "id": "857a5a34",
   "metadata": {},
   "outputs": [],
   "source": [
    "import sys, os\n",
    "import h5py\n",
    "import numpy as np\n",
    "import matplotlib.pyplot as plt\n",
    "%matplotlib inline\n",
    "\n",
    "sys.path.append('../src/')\n",
    "from tensor import Particles"
   ]
  },
  {
   "cell_type": "code",
   "execution_count": 3,
   "id": "b2ae29f6",
   "metadata": {},
   "outputs": [],
   "source": [
    "hf = h5py.File('../data/elucid_noQ_mock.hdf5', 'r')\n",
    "idx = hf['particles']['cen_flag'] == 0\n",
    "pos = np.stack((hf['particles']['x'][idx], hf['particles']['y'][idx], hf['particles']['z'][idx]), axis=1)\n",
    "mass = hf['particles']['host_lgmass'][idx]\n",
    "del hf"
   ]
  },
  {
   "cell_type": "code",
   "execution_count": 4,
   "id": "aa69005b",
   "metadata": {},
   "outputs": [],
   "source": [
    "grid = Particles(256, 500)\n",
    "grid.assign(pos, mass)"
   ]
  },
  {
   "cell_type": "code",
   "execution_count": 5,
   "id": "62f0da9e",
   "metadata": {},
   "outputs": [],
   "source": [
    "Rs = 1\n",
    "workers = os.cpu_count()\n",
    "grid.TensorField(Rs, workers=workers)"
   ]
  },
  {
   "cell_type": "code",
   "execution_count": 6,
   "id": "a847b0cb",
   "metadata": {},
   "outputs": [],
   "source": [
    "x = np.array([10, 20])\n",
    "y = np.array([300, 300])\n",
    "z = np.array([60, 60])\n",
    "xyz = np.stack((x, y, z), axis=1)\n",
    "tensor = grid.TensorInterp(xyz)"
   ]
  },
  {
   "cell_type": "code",
   "execution_count": null,
   "id": "ee5ba09f",
   "metadata": {},
   "outputs": [],
   "source": []
  }
 ],
 "metadata": {
  "kernelspec": {
   "display_name": "Python 3 (ipykernel)",
   "language": "python",
   "name": "python3"
  },
  "language_info": {
   "codemirror_mode": {
    "name": "ipython",
    "version": 3
   },
   "file_extension": ".py",
   "mimetype": "text/x-python",
   "name": "python",
   "nbconvert_exporter": "python",
   "pygments_lexer": "ipython3",
   "version": "3.9.15"
  }
 },
 "nbformat": 4,
 "nbformat_minor": 5
}
